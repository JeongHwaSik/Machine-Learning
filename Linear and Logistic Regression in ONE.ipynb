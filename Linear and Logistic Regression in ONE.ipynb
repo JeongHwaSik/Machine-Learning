{
 "cells": [
  {
   "cell_type": "markdown",
   "id": "785aacda",
   "metadata": {},
   "source": [
    "# Linear and Logistic Regression in One"
   ]
  },
  {
   "cell_type": "code",
   "execution_count": 3,
   "id": "f6918607",
   "metadata": {},
   "outputs": [],
   "source": [
    "import numpy as np\n",
    "\n",
    "class BaseRegression:\n",
    "    \n",
    "    def __init__(self, lr=0.001, n_iters=1000):\n",
    "        self.lr = lr\n",
    "        self.n_iters = n_iters\n",
    "        self.weights = None\n",
    "        self.bias = None\n",
    "        \n",
    "    def fit(self, X, y):\n",
    "        n_samples, n_features = X.shape\n",
    "        self.weights = np.zeros(n_features)\n",
    "        self.bias = 0\n",
    "        for _ in range(self.n_iters):\n",
    "            y_predicted = self._approximation(X, self.weights, self.bias)\n",
    "            dw = (2/n_samples)*np.dot(X.T, (y_predicted-y))\n",
    "            db = (2/n_samples)*np.sum(y_predicted-y)\n",
    "            self.weights -= self.lr * dw\n",
    "            self.bias -= self.lr * db\n",
    "    \n",
    "    def _approximation(self, X, w, b):\n",
    "        raise NotImplementedError()\n",
    "    \n",
    "    def predict(self, X):\n",
    "        return self._predict(X, self.weights, self.bias)\n",
    "    \n",
    "    def _predict(self, X, w, b):\n",
    "        raise NotImplementedError()\n",
    "\n",
    "        \n",
    "class LinearRegression(BaseRegression):\n",
    "    \n",
    "    def _approximation(self, X, w, b):\n",
    "        return np.dot(X, w) + b\n",
    "        \n",
    "    def _predict(self, X, w, b):\n",
    "        return np.dot(X, w) + b\n",
    "        \n",
    "\n",
    "class LogisticRegression(BaseRegression):\n",
    "        \n",
    "    def _approximation(self, X, w, b):\n",
    "        linear_model = np.dot(X, w) + b\n",
    "        return self._sigmoid(linear_model)\n",
    "        \n",
    "    def _predict(self, X, w, b):\n",
    "        linear_model = np.dot(X, w) + b\n",
    "        y_predicted = self._sigmoid(linear_model)\n",
    "        y_predicted_clf = [1 if i>0.5 else 0 for i in y_predicted]\n",
    "        return y_predicted_clf\n",
    "    \n",
    "    def _sigmoid(self, x):\n",
    "        return 1 / (1+np.exp(-x))"
   ]
  }
 ],
 "metadata": {
  "kernelspec": {
   "display_name": "Python 3 (ipykernel)",
   "language": "python",
   "name": "python3"
  },
  "language_info": {
   "codemirror_mode": {
    "name": "ipython",
    "version": 3
   },
   "file_extension": ".py",
   "mimetype": "text/x-python",
   "name": "python",
   "nbconvert_exporter": "python",
   "pygments_lexer": "ipython3",
   "version": "3.9.7"
  }
 },
 "nbformat": 4,
 "nbformat_minor": 5
}
