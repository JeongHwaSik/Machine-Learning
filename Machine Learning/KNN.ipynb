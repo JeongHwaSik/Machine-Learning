{
 "cells": [
  {
   "cell_type": "markdown",
   "id": "06688d52",
   "metadata": {},
   "source": [
    "# KNN(K nearest neighbors) Algorithm in scratch"
   ]
  },
  {
   "cell_type": "code",
   "execution_count": 8,
   "id": "7998e06b",
   "metadata": {},
   "outputs": [],
   "source": [
    "# KNN Algorithm\n",
    "\n",
    "import numpy as np\n",
    "from collections import Counter\n",
    "\n",
    "def euclidean_distance(x1,x2):\n",
    "    return np.sqrt(np.sum((x1-x2)**2))\n",
    "\n",
    "class KNN:\n",
    "    \n",
    "    def __init__(self, k=3):\n",
    "        self.k = k\n",
    "        \n",
    "    # given data\n",
    "    def fit(self, X, y):\n",
    "        self.X_train = X\n",
    "        self.y_train = y\n",
    "    \n",
    "    # predict\n",
    "    def predict(self, X):\n",
    "        predicted_labels = [self._predict(x) for x in X]\n",
    "        return np.array(predicted_labels)\n",
    "        \n",
    "    def _predict(self, x):\n",
    "        # compute distances\n",
    "        distances = [euclidean_distance(x,x_train) for x_train in X_train]\n",
    "        \n",
    "        # k nearest samples, labels\n",
    "        k_indices = np.argsort(distances)[:self.k]\n",
    "        k_nearest_labels = [self.y_train[i] for i in k_indices]\n",
    "        \n",
    "        #majority vote, most common class label\n",
    "        most_common = Counter(k_nearest_labels).most_common(1)\n",
    "        return most_common[0][0]"
   ]
  },
  {
   "cell_type": "code",
   "execution_count": 11,
   "id": "67308eaa",
   "metadata": {},
   "outputs": [
    {
     "name": "stdout",
     "output_type": "stream",
     "text": [
      "0.98\n"
     ]
    }
   ],
   "source": [
    "# test\n",
    "\n",
    "from sklearn.datasets import load_iris\n",
    "from sklearn.model_selection import train_test_split\n",
    "\n",
    "iris_data = load_iris()\n",
    "X = iris_data.data\n",
    "y = iris_data.target\n",
    "X_train, X_test, y_train, y_test = train_test_split(X, y, test_size=0.33, random_state=42)\n",
    "\n",
    "clf = KNN(k=3)\n",
    "clf.fit(X_train, y_train)\n",
    "predictions = clf.predict(X_test)\n",
    "accuracy = np.sum(predictions == y_test) / len(y_test)\n",
    "print(accuracy)"
   ]
  },
  {
   "cell_type": "markdown",
   "id": "20f89aca",
   "metadata": {},
   "source": [
    "# KNN using Sckit-Learn module"
   ]
  },
  {
   "cell_type": "code",
   "execution_count": 2,
   "id": "46fb09cc",
   "metadata": {},
   "outputs": [
    {
     "name": "stdout",
     "output_type": "stream",
     "text": [
      "0.98\n"
     ]
    }
   ],
   "source": [
    "from sklearn.neighbors import KNeighborsClassifier\n",
    "from sklearn.datasets import load_iris\n",
    "from sklearn.model_selection import train_test_split\n",
    "from sklearn.metrics import accuracy_score\n",
    "\n",
    "iris_data = load_iris()\n",
    "X = iris_data.data\n",
    "y = iris_data.target\n",
    "X_train, X_test, y_train, y_test = train_test_split(X, y, test_size=0.33, random_state=42)\n",
    "\n",
    "knn = KNeighborsClassifier(n_neighbors=3)\n",
    "knn.fit(X_train, y_train)\n",
    "predicted = knn.predict(X_test)\n",
    "accuracy = accuracy_score(y_test, predicted)\n",
    "print(accuracy)"
   ]
  },
  {
   "cell_type": "markdown",
   "id": "abc2e9fa",
   "metadata": {},
   "source": [
    "# Feedback"
   ]
  },
  {
   "cell_type": "code",
   "execution_count": 16,
   "id": "4165ee6c",
   "metadata": {},
   "outputs": [
    {
     "name": "stderr",
     "output_type": "stream",
     "text": [
      "/var/folders/x9/j16jbch57gg61qsn4q91b06w0000gn/T/ipykernel_40641/3246500284.py:6: RuntimeWarning: covariance is not positive-semidefinite.\n",
      "  d1 = np.random.multivariate_normal(mean=[0,2], cov=[[2,-5],[-5,3]], size=100) #negative correlated\n"
     ]
    },
    {
     "data": {
      "image/png": "[encoded data removed]",
      "text/plain": [
       "<Figure size 432x288 with 1 Axes>"
      ]
     },
     "metadata": {
      "needs_background": "light"
     },
     "output_type": "display_data"
    },
    {
     "name": "stdout",
     "output_type": "stream",
     "text": [
      "classification-1\n"
     ]
    }
   ],
   "source": [
    "import numpy as np\n",
    "import matplotlib.pyplot as plt\n",
    "import pandas as pd\n",
    "\n",
    "np.random.seed(0)\n",
    "d1 = np.random.multivariate_normal(mean=[0,2], cov=[[2,-5],[-5,3]], size=100) #negative correlated\n",
    "d2 = np.random.multivariate_normal(mean=[8,6], cov=[[5,-3],[-3,8]], size=100) #negative correlated\n",
    "\n",
    "f1 = plt.figure()\n",
    "ax1 = f1.add_subplot(111)\n",
    "ax1.scatter(d1[:,0],d1[:,1],s=10)\n",
    "ax1.scatter(d2[:,0],d2[:,1],s=10)\n",
    "plt.show()\n",
    "\n",
    "Ndata = len(d1[:,0])\n",
    "X1 = np.c_[d1[:,0],d1[:,1]]\n",
    "y1 = np.zeros([Ndata,1])\n",
    "X2 = np.c_[d2[:,0],d2[:,1]]\n",
    "y2 = np.ones([Ndata,1])\n",
    "X = np.r_[X1, X2]\n",
    "y = np.r_[y1, y2]\n",
    "\n",
    "#KNN-binary classification\n",
    "data = np.array([5,5]) # I want to predict a data but what if we want to predict lots of data??\n",
    "distance = []\n",
    "for i in range(len(y)):\n",
    "    dis = (X[i][0] - data[0])**2 + (X[i][1] - data[1])**2\n",
    "    # instead we can make euclidean_distance function using numpy\n",
    "    distance.append(dis)\n",
    "\n",
    "y_dis = pd.DataFrame(np.c_[y,distance])\n",
    "y_dis.columns = [\"cluster\", \"distance\"]\n",
    "y_dis_sorted = y_dis.sort_values(by=[\"distance\"])\n",
    "# instead we can use numpy.argsort to get sorted indices\n",
    "\n",
    "#k = 5\n",
    "clustered = y_dis_sorted.iloc[:5][\"cluster\"]\n",
    "class0 = 0\n",
    "class1 = 0\n",
    "for i in clustered:\n",
    "    if i == 0:\n",
    "        class0 += 1\n",
    "    elif i == 1:\n",
    "        class1 += 1\n",
    "if class0 > class1:\n",
    "    print(\"classification-0\")\n",
    "else:\n",
    "    print(\"classification-1\")"
   ]
  }
 ],
 "metadata": {
  "kernelspec": {
   "display_name": "Python 3 (ipykernel)",
   "language": "python",
   "name": "python3"
  },
  "language_info": {
   "codemirror_mode": {
    "name": "ipython",
    "version": 3
   },
   "file_extension": ".py",
   "mimetype": "text/x-python",
   "name": "python",
   "nbconvert_exporter": "python",
   "pygments_lexer": "ipython3",
   "version": "3.9.7"
  }
 },
 "nbformat": 4,
 "nbformat_minor": 5
}
